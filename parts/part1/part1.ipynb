{
 "cells": [
  {
   "cell_type": "code",
   "execution_count": 1,
   "id": "5e8875c6",
   "metadata": {},
   "outputs": [
    {
     "name": "stderr",
     "output_type": "stream",
     "text": [
      "Matplotlib is building the font cache; this may take a moment.\n"
     ]
    }
   ],
   "source": [
    "# Import necessary libraries\n",
    "import numpy as np\n",
    "import numpy.typing as npt\n",
    "import matplotlib.pyplot as plt"
   ]
  },
  {
   "cell_type": "code",
   "execution_count": 2,
   "id": "cf5f7b7e",
   "metadata": {},
   "outputs": [],
   "source": [
    "# 1. Generate sample data\n",
    "np.random.seed(42)  # For reproducibility"
   ]
  },
  {
   "cell_type": "code",
   "execution_count": 3,
   "id": "fd03283b",
   "metadata": {},
   "outputs": [],
   "source": [
    "# Parameters\n",
    "n_samples = 100\n",
    "true_slope = 2.5\n",
    "true_intercept = 5\n",
    "noise_level = 3"
   ]
  },
  {
   "cell_type": "code",
   "execution_count": 4,
   "id": "e6ace6f5",
   "metadata": {},
   "outputs": [],
   "source": [
    "# Generate x values\n",
    "X = np.random.uniform(0, 10, n_samples)"
   ]
  },
  {
   "cell_type": "code",
   "execution_count": 5,
   "id": "3839abd3",
   "metadata": {},
   "outputs": [],
   "source": [
    "# Generate y values with some noise to mimic \"real world\" phenomenon\n",
    "y = true_slope * X + true_intercept + np.random.normal(0, noise_level, n_samples)"
   ]
  },
  {
   "cell_type": "code",
   "execution_count": 6,
   "id": "3bf09dbb",
   "metadata": {},
   "outputs": [],
   "source": [
    "# Split into training and testing sets (80% train, 20% test)\n",
    "split_idx = int(0.8 * n_samples)\n",
    "X_train, X_test = X[:split_idx], X[split_idx:]\n",
    "y_train, y_test = y[:split_idx], y[split_idx:]"
   ]
  },
  {
   "cell_type": "code",
   "execution_count": 7,
   "id": "aa6a516a",
   "metadata": {},
   "outputs": [],
   "source": [
    "# 2. Initialize parameters. In training, these random values will be adjusted through gradient descent\n",
    "weight = np.random.randn()  # coefficient/slope\n",
    "bias = np.random.randn()  # intercept"
   ]
  },
  {
   "cell_type": "code",
   "execution_count": 8,
   "id": "b6f8b367",
   "metadata": {},
   "outputs": [],
   "source": [
    "# 3. Define model functions\n",
    "def forward_pass(\n",
    "    x: npt.NDArray[np.float64], weight: float, bias: float\n",
    ") -> npt.NDArray[np.float64]:\n",
    "    return x * weight + bias"
   ]
  },
  {
   "cell_type": "code",
   "execution_count": 9,
   "id": "b3ec0146",
   "metadata": {},
   "outputs": [],
   "source": [
    "def loss_calculation(\n",
    "    y_pred: npt.NDArray[np.float64], y_true: npt.NDArray[np.float64]\n",
    ") -> np.floating:\n",
    "    return np.mean((y_pred - y_true) ** 2)"
   ]
  },
  {
   "cell_type": "code",
   "execution_count": 10,
   "id": "185b2f3a",
   "metadata": {},
   "outputs": [],
   "source": [
    "def parameter_update(\n",
    "    w: float,\n",
    "    b: float,\n",
    "    x: np.ndarray,\n",
    "    y: npt.NDArray[np.float64],\n",
    "    y_pred: npt.NDArray[np.float64],\n",
    "    learning_rate: float,\n",
    ") -> tuple[float, float]:\n",
    "    num_inputs = x.size\n",
    "    derivative_weight = -2 / num_inputs * np.sum(x * (y - y_pred))\n",
    "    derivative_bias = -2 / num_inputs * np.sum(y - y_pred)\n",
    "\n",
    "    weight = w - learning_rate * derivative_weight\n",
    "    bias = b - learning_rate * derivative_bias\n",
    "\n",
    "    return (weight, bias)"
   ]
  },
  {
   "cell_type": "code",
   "execution_count": 11,
   "id": "af87309b",
   "metadata": {},
   "outputs": [],
   "source": [
    "# 4. Training loop\n",
    "# Hyperparameters\n",
    "learning_rate = 0.01\n",
    "iterations = 1000"
   ]
  },
  {
   "cell_type": "code",
   "execution_count": 12,
   "id": "10586221",
   "metadata": {},
   "outputs": [],
   "source": [
    "loss_history = []"
   ]
  },
  {
   "cell_type": "code",
   "execution_count": 13,
   "id": "11aa6734",
   "metadata": {
    "scrolled": true
   },
   "outputs": [
    {
     "name": "stdout",
     "output_type": "stream",
     "text": [
      "Iteration 100/1000, Loss: 8.3126, Weight: 2.6333, Bias: 3.5790\n",
      "Iteration 200/1000, Loss: 7.3739, Weight: 2.4903, Bias: 4.5194\n",
      "Iteration 300/1000, Loss: 7.0826, Weight: 2.4106, Bias: 5.0434\n",
      "Iteration 400/1000, Loss: 6.9921, Weight: 2.3662, Bias: 5.3352\n",
      "Iteration 500/1000, Loss: 6.9641, Weight: 2.3415, Bias: 5.4979\n",
      "Iteration 600/1000, Loss: 6.9553, Weight: 2.3277, Bias: 5.5885\n",
      "Iteration 700/1000, Loss: 6.9526, Weight: 2.3201, Bias: 5.6389\n",
      "Iteration 800/1000, Loss: 6.9518, Weight: 2.3158, Bias: 5.6670\n",
      "Iteration 900/1000, Loss: 6.9515, Weight: 2.3134, Bias: 5.6827\n",
      "Iteration 1000/1000, Loss: 6.9515, Weight: 2.3121, Bias: 5.6914\n"
     ]
    }
   ],
   "source": [
    "for i in range(iterations):\n",
    "    y_pred = forward_pass(X_train, weight, bias)\n",
    "    loss = loss_calculation(y_pred, y_train)\n",
    "    loss_history.append(loss)\n",
    "\n",
    "    weight, bias = parameter_update(\n",
    "        weight, bias, X_train, y_train, y_pred, learning_rate\n",
    "    )\n",
    "\n",
    "    if (i + 1) % 100 == 0:\n",
    "        print(\n",
    "            f\"Iteration {i + 1}/{iterations}, Loss: {loss:.4f}, Weight: {weight:.4f}, Bias: {bias:.4f}\"\n",
    "        )"
   ]
  },
  {
   "cell_type": "code",
   "execution_count": 14,
   "id": "2eba48ca",
   "metadata": {},
   "outputs": [
    {
     "name": "stdout",
     "output_type": "stream",
     "text": [
      "Final parameters: Weight = 2.3121, Bias = 5.6914\n",
      "True parameters: Weight = 2.5000, Bias = 5.0000\n"
     ]
    }
   ],
   "source": [
    "print(f\"Final parameters: Weight = {weight:.4f}, Bias = {bias:.4f}\")\n",
    "print(f\"True parameters: Weight = {true_slope:.4f}, Bias = {true_intercept:.4f}\")"
   ]
  },
  {
   "cell_type": "markdown",
   "id": "925643ce",
   "metadata": {
    "lines_to_next_cell": 2
   },
   "source": [
    "5. Visualization\n",
    "TODO: Plot original data points and final regression line\n",
    "TODO: Plot loss over iterations"
   ]
  },
  {
   "cell_type": "code",
   "execution_count": 20,
   "id": "90e6707f-f0fc-4595-9f0d-cf8b4c2b082b",
   "metadata": {},
   "outputs": [
    {
     "data": {
      "text/plain": [
       "<matplotlib.collections.PathCollection at 0x10754a630>"
      ]
     },
     "execution_count": 20,
     "metadata": {},
     "output_type": "execute_result"
    },
    {
     "data": {
      "image/png": "[encoded data removed]",
      "text/plain": [
       "<Figure size 640x480 with 1 Axes>"
      ]
     },
     "metadata": {},
     "output_type": "display_data"
    }
   ],
   "source": [
    "plt.scatter(X_train, y_train)"
   ]
  },
  {
   "cell_type": "code",
   "execution_count": null,
   "id": "3810c392-1564-4461-9fc2-0dbc2c59bbfc",
   "metadata": {},
   "outputs": [],
   "source": []
  },
  {
   "cell_type": "code",
   "execution_count": null,
   "id": "d05e18b3-6f9a-40a0-b5be-d6fbf8b7b5c7",
   "metadata": {},
   "outputs": [],
   "source": []
  },
  {
   "cell_type": "markdown",
   "id": "fa72bb0d",
   "metadata": {},
   "source": [
    "6. (Optional) Do this in a jupyter notebook\n",
    "TODO: convert this python script to a jupyter notebook to test inputs and outputs at each step"
   ]
  }
 ],
 "metadata": {
  "jupytext": {
   "cell_metadata_filter": "-all",
   "main_language": "python",
   "notebook_metadata_filter": "-all"
  },
  "kernelspec": {
   "display_name": "Python 3 (ipykernel)",
   "language": "python",
   "name": "python3"
  },
  "language_info": {
   "codemirror_mode": {
    "name": "ipython",
    "version": 3
   },
   "file_extension": ".py",
   "mimetype": "text/x-python",
   "name": "python",
   "nbconvert_exporter": "python",
   "pygments_lexer": "ipython3",
   "version": "3.12.0"
  }
 },
 "nbformat": 4,
 "nbformat_minor": 5
}
